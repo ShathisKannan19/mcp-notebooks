{
 "cells": [
  {
   "cell_type": "markdown",
   "id": "00489d15",
   "metadata": {},
   "source": [
    "## Chatbot Example\n",
    "This example demonstrates how to create a simple chatbot using the OpenAI API. The chatbot can search for academic papers and extract information from them. And also covered the function tool calling feature of the OpenAI API."
   ]
  },
  {
   "cell_type": "code",
   "execution_count": null,
   "id": "5b8cfb14",
   "metadata": {},
   "outputs": [],
   "source": [
    "%pip install openai arxiv python-dotenv --quiet"
   ]
  },
  {
   "cell_type": "code",
   "execution_count": null,
   "id": "862ce560",
   "metadata": {},
   "outputs": [],
   "source": [
    "## Import Libraries\n",
    "import arxiv\n",
    "import json\n",
    "import os\n",
    "from typing import List\n",
    "from dotenv import load_dotenv\n",
    "import openai"
   ]
  },
  {
   "cell_type": "code",
   "execution_count": null,
   "id": "e665f8d8",
   "metadata": {},
   "outputs": [],
   "source": [
    "# Directory to Store\n",
    "PAPER_DIR = \"papers\""
   ]
  },
  {
   "cell_type": "markdown",
   "id": "2978cc02",
   "metadata": {},
   "source": [
    "## Tool Function"
   ]
  },
  {
   "cell_type": "code",
   "execution_count": null,
   "id": "61e1efcc",
   "metadata": {},
   "outputs": [],
   "source": [
    "def search_papers(topic: str, max_results: int = 5) -> List[str]:\n",
    "    \"\"\"\n",
    "    Search for papers on arXiv based on a topic and store their information.\n",
    "\n",
    "    Args:\n",
    "        topic: The topic to search for\n",
    "        max_results: Maximum number of results to retrieve (default: 5)\n",
    "\n",
    "    Returns:\n",
    "        List of paper IDs found in the search\n",
    "    \"\"\"\n",
    "\n",
    "    # Use arxiv to find the papers\n",
    "    client = arxiv.Client()\n",
    "\n",
    "    # Search for the most relevant articles matching the queried topic\n",
    "    search = arxiv.Search(\n",
    "        query=topic, max_results=max_results, sort_by=arxiv.SortCriterion.Relevance\n",
    "    )\n",
    "\n",
    "    papers = client.results(search)\n",
    "\n",
    "    # Create directory for this topic\n",
    "    path = os.path.join(PAPER_DIR, topic.lower().replace(\" \", \"_\"))\n",
    "    os.makedirs(path, exist_ok=True)\n",
    "\n",
    "    file_path = os.path.join(path, \"papers_info.json\")\n",
    "\n",
    "    # Try to load existing papers info\n",
    "    try:\n",
    "        with open(file_path, \"r\") as json_file:\n",
    "            papers_info = json.load(json_file)\n",
    "    except (FileNotFoundError, json.JSONDecodeError):\n",
    "        papers_info = {}\n",
    "\n",
    "    # Process each paper and add to papers_info\n",
    "    paper_ids = []\n",
    "    for paper in papers:\n",
    "        paper_ids.append(paper.get_short_id())\n",
    "        paper_info = {\n",
    "            \"title\": paper.title,\n",
    "            \"authors\": [author.name for author in paper.authors],\n",
    "            \"summary\": paper.summary,\n",
    "            \"pdf_url\": paper.pdf_url,\n",
    "            \"published\": str(paper.published.date()),\n",
    "        }\n",
    "        papers_info[paper.get_short_id()] = paper_info\n",
    "\n",
    "    # Save updated papers_info to json file\n",
    "    with open(file_path, \"w\") as json_file:\n",
    "        json.dump(papers_info, json_file, indent=2)\n",
    "\n",
    "    print(f\"Results are saved in: {file_path}\")\n",
    "\n",
    "    return paper_ids"
   ]
  },
  {
   "cell_type": "code",
   "execution_count": null,
   "id": "422299b8",
   "metadata": {},
   "outputs": [],
   "source": [
    "search_papers(\"AI in Healthcare\", max_results=5)"
   ]
  },
  {
   "cell_type": "code",
   "execution_count": null,
   "id": "2f449a53",
   "metadata": {},
   "outputs": [],
   "source": [
    "def extract_info(paper_id: str) -> str:\n",
    "    \"\"\"\n",
    "    Search for information about a specific paper across all topic directories.\n",
    "\n",
    "    Args:\n",
    "        paper_id: The ID of the paper to look for\n",
    "\n",
    "    Returns:\n",
    "        JSON string with paper information if found, error message if not found\n",
    "    \"\"\"\n",
    "\n",
    "    for item in os.listdir(PAPER_DIR):\n",
    "        item_path = os.path.join(PAPER_DIR, item)\n",
    "        if os.path.isdir(item_path):\n",
    "            file_path = os.path.join(item_path, \"papers_info.json\")\n",
    "            if os.path.isfile(file_path):\n",
    "                try:\n",
    "                    with open(file_path, \"r\") as json_file:\n",
    "                        papers_info = json.load(json_file)\n",
    "                        if paper_id in papers_info:\n",
    "                            return json.dumps(papers_info[paper_id], indent=2)\n",
    "                except (FileNotFoundError, json.JSONDecodeError) as e:\n",
    "                    print(f\"Error reading {file_path}: {str(e)}\")\n",
    "                    continue\n",
    "\n",
    "    return f\"There's no saved information related to paper {paper_id}.\""
   ]
  },
  {
   "cell_type": "code",
   "execution_count": null,
   "id": "06c7a939",
   "metadata": {},
   "outputs": [],
   "source": [
    "extract_info(\"2409.07415v2\")"
   ]
  },
  {
   "cell_type": "markdown",
   "id": "7b0dfffe",
   "metadata": {},
   "source": [
    "## Tool Schema"
   ]
  },
  {
   "cell_type": "code",
   "execution_count": null,
   "id": "09409885",
   "metadata": {},
   "outputs": [],
   "source": [
    "tools = [\n",
    "    {\n",
    "        \"type\": \"function\",\n",
    "        \"name\": \"search_papers\",\n",
    "        \"description\": \"Search for papers on arXiv based on a topic and store their information.\",\n",
    "        \"parameters\": {\n",
    "            \"type\": \"object\",\n",
    "            \"properties\": {\n",
    "                \"topic\": {\"type\": \"string\", \"description\": \"The topic to search for\"},\n",
    "                \"max_results\": {\n",
    "                    \"type\": \"integer\",\n",
    "                    \"description\": \"Maximum number of results to retrieve\",\n",
    "                    \"default\": 5,\n",
    "                },\n",
    "            },\n",
    "            \"required\": [\"topic\"],\n",
    "            \"additionalProperties\": False,\n",
    "        },\n",
    "    },\n",
    "    {\n",
    "        \"type\": \"function\",\n",
    "        \"name\": \"extract_info\",\n",
    "        \"description\": \"Search for information about a specific paper across all topic directories.\",\n",
    "        \"parameters\": {\n",
    "            \"type\": \"object\",\n",
    "            \"properties\": {\n",
    "                \"paper_id\": {\n",
    "                    \"type\": \"string\",\n",
    "                    \"description\": \"The ID of the paper to look for\",\n",
    "                }\n",
    "            },\n",
    "            \"required\": [\"paper_id\"],\n",
    "            \"additionalProperties\": False,\n",
    "        },\n",
    "    },\n",
    "]"
   ]
  },
  {
   "cell_type": "markdown",
   "id": "2217c8f9",
   "metadata": {},
   "source": [
    "## Tool Mapping"
   ]
  },
  {
   "cell_type": "code",
   "execution_count": null,
   "id": "e8f711a8",
   "metadata": {},
   "outputs": [],
   "source": [
    "mapping_tool_function = {\"search_papers\": search_papers, \"extract_info\": extract_info}\n",
    "\n",
    "\n",
    "def execute_tool(tool_name, tool_args):\n",
    "    result = mapping_tool_function[tool_name](**tool_args)\n",
    "\n",
    "    if result is None:\n",
    "        result = \"The operation completed but didn't return any results.\"\n",
    "\n",
    "    elif isinstance(result, list):\n",
    "        result = \", \".join(result)\n",
    "\n",
    "    elif isinstance(result, dict):\n",
    "        result = json.dumps(result, indent=2)\n",
    "\n",
    "    else:\n",
    "        result = str(result)\n",
    "    print(f\"Tool {tool_name} executed with result: {result}\")\n",
    "    return result"
   ]
  },
  {
   "cell_type": "markdown",
   "id": "58aef453",
   "metadata": {},
   "source": [
    "## Chatbot Code"
   ]
  },
  {
   "cell_type": "code",
   "execution_count": null,
   "id": "0842fae8",
   "metadata": {},
   "outputs": [],
   "source": [
    "load_dotenv()\n",
    "client = openai.Client()"
   ]
  },
  {
   "cell_type": "markdown",
   "id": "a9a3a529",
   "metadata": {},
   "source": [
    "### Query Processing"
   ]
  },
  {
   "cell_type": "code",
   "execution_count": null,
   "id": "6b65def9",
   "metadata": {},
   "outputs": [],
   "source": [
    "def process_query(query: str):\n",
    "    messages = [{\"role\": \"user\", \"content\": query}]\n",
    "\n",
    "    is_loop_nedded = True\n",
    "    while is_loop_nedded:\n",
    "        response = client.responses.create(\n",
    "            model=\"gpt-4o\",\n",
    "            input=messages,\n",
    "            tools=tools,\n",
    "        )\n",
    "        for block in response.output:\n",
    "\n",
    "            if block.type == \"message\":\n",
    "                return block.content[0].text\n",
    "                is_loop_nedded = False\n",
    "\n",
    "            elif block.type == \"function_call\":\n",
    "                tool_call_id = block.call_id\n",
    "                tool_name = block.name\n",
    "                tool_args = json.loads(block.arguments)\n",
    "\n",
    "                print(\n",
    "                    f\"Processing tool call: {tool_name} with args: {tool_args} with call_id: {tool_call_id}\"\n",
    "                )\n",
    "                result = execute_tool(tool_name, tool_args)\n",
    "                messages.append(block.model_dump())\n",
    "                messages.append(\n",
    "                    {\n",
    "                        \"type\": \"function_call_output\",\n",
    "                        \"call_id\": tool_call_id,\n",
    "                        \"output\": str(result),\n",
    "                    }\n",
    "                )\n",
    "\n",
    "                is_loop_nedded = True"
   ]
  },
  {
   "cell_type": "code",
   "execution_count": null,
   "id": "2d9b246e",
   "metadata": {},
   "outputs": [],
   "source": [
    "process_query(\"Hi, can you search for papers on AI in Healthcare and Check the 2409.07415v2?\")"
   ]
  },
  {
   "cell_type": "code",
   "execution_count": null,
   "id": "0be299f0",
   "metadata": {},
   "outputs": [],
   "source": [
    "print(process_query(\"Hi.\"))"
   ]
  },
  {
   "cell_type": "markdown",
   "id": "a12d69bc",
   "metadata": {},
   "source": [
    "### Chatbot Function"
   ]
  },
  {
   "cell_type": "code",
   "execution_count": null,
   "id": "9138e3ae",
   "metadata": {},
   "outputs": [],
   "source": [
    "from IPython.display import display, Markdown\n",
    "\n",
    "def chat_loop():\n",
    "    print(\"Type your queries or 'quit' to exit.\")\n",
    "    while True:\n",
    "        try:\n",
    "            query = input(\"\\nQuery: \").strip()\n",
    "            if query.lower() == \"quit\":\n",
    "                break\n",
    "\n",
    "            response = process_query(query)\n",
    "            display(Markdown(response))\n",
    "            print()\n",
    "        except Exception as e:\n",
    "            print(f\"\\nError: {e}\")"
   ]
  },
  {
   "cell_type": "code",
   "execution_count": null,
   "id": "deb9b069",
   "metadata": {},
   "outputs": [],
   "source": [
    "chat_loop()"
   ]
  }
 ],
 "metadata": {
  "kernelspec": {
   "display_name": ".venv",
   "language": "python",
   "name": "python3"
  },
  "language_info": {
   "codemirror_mode": {
    "name": "ipython",
    "version": 3
   },
   "file_extension": ".py",
   "mimetype": "text/x-python",
   "name": "python",
   "nbconvert_exporter": "python",
   "pygments_lexer": "ipython3",
   "version": "3.12.5"
  }
 },
 "nbformat": 4,
 "nbformat_minor": 5
}
